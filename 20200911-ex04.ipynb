{
 "cells": [
  {
   "cell_type": "markdown",
   "metadata": {},
   "source": [
    "## 回顧 - 基本運算單元 \n",
    "\n",
    "### 整數(int)\n",
    "```\n",
    "1 \n",
    "2 \n",
    "3\n",
    "4 + 5\n",
    "```\n",
    "\n",
    "### 字串(str)\n",
    "```\n",
    "\"Hello\"\n",
    "\"你好\"\n",
    "\"你好\" + \"Tom\"\n",
    "f\"{3} 乘 {5} = {3 * 5}\"\n",
    "```\n",
    "\n",
    "### 布林(bool)  True and False\n",
    "```\n",
    "True\n",
    "False\n",
    "bool(1)\n",
    "bool(0)\n",
    "bool(\"\")\n",
    "bool(\"somewhat\")\n",
    "True and False\n",
    "\n",
    "```\n",
    "\n",
    "### 變數\n",
    "\n",
    "```\n",
    "x = 3\n",
    "y = 5 \n",
    "x * y\n",
    "```\n",
    "\n",
    "\n",
    "\n"
   ]
  },
  {
   "cell_type": "markdown",
   "metadata": {},
   "source": [
    "## 回顧 - 條件判斷 if elase\n",
    "\n",
    "```\n",
    "if True:\n",
    "    print(\"True\")\n",
    "else False\n",
    "    print(\"False\")\n",
    "```"
   ]
  },
  {
   "cell_type": "code",
   "execution_count": 6,
   "metadata": {},
   "outputs": [
    {
     "name": "stdout",
     "output_type": "stream",
     "text": [
      "輸入整數１\n",
      "1 小於 10\n"
     ]
    }
   ],
   "source": [
    "x = int(input(\"輸入整數\"))\n",
    "if x > 10:\n",
    "    print(f\"{x} 大於 10\")\n",
    "elif x < 10:\n",
    "    print(f\"{x} 小於 10\")\n",
    "else:\n",
    "    print(f\"{x} 等於 10\")\n",
    "    "
   ]
  },
  {
   "cell_type": "markdown",
   "metadata": {},
   "source": [
    "# 迴圈"
   ]
  },
  {
   "cell_type": "code",
   "execution_count": 8,
   "metadata": {},
   "outputs": [
    {
     "name": "stdout",
     "output_type": "stream",
     "text": [
      "0\n",
      "1\n",
      "2\n",
      "3\n",
      "4\n",
      "5\n",
      "6\n",
      "7\n",
      "8\n",
      "9\n"
     ]
    }
   ],
   "source": [
    "# 從０印到10\n",
    "print(0)\n",
    "print(1)\n",
    "print(2)\n",
    "print(3)\n",
    "print(4)\n",
    "print(5)\n",
    "print(6)\n",
    "print(7)\n",
    "print(8)\n",
    "print(9)\n"
   ]
  },
  {
   "cell_type": "code",
   "execution_count": 10,
   "metadata": {},
   "outputs": [
    {
     "name": "stdout",
     "output_type": "stream",
     "text": [
      "0\n",
      "1\n",
      "2\n",
      "3\n",
      "4\n",
      "5\n",
      "6\n",
      "7\n",
      "8\n",
      "9\n"
     ]
    }
   ],
   "source": [
    "for i in range(0, 10):\n",
    "    print(i)"
   ]
  },
  {
   "cell_type": "code",
   "execution_count": 18,
   "metadata": {},
   "outputs": [
    {
     "name": "stdout",
     "output_type": "stream",
     "text": [
      "total now is 1\n",
      "total now is 3\n",
      "total now is 6\n",
      "total now is 10\n",
      "total now is 15\n",
      "total now is 21\n",
      "total now is 28\n",
      "total now is 36\n",
      "total now is 45\n",
      "total now is 55\n",
      "================\n",
      "result: 55\n"
     ]
    }
   ],
   "source": [
    "# 1 + 2 + 3 + ...... + 10\n",
    "total = 0\n",
    "for i in range(1, 11):\n",
    "    total += i\n",
    "    print(f\"total now is {total}\")\n",
    "\n",
    "print(\"================\")\n",
    "print(f\"result: {total}\")\n",
    "    "
   ]
  },
  {
   "cell_type": "code",
   "execution_count": 33,
   "metadata": {},
   "outputs": [],
   "source": [
    "# 練習 實作程式求出以下運算試的解\n",
    "# 2 + 4 + 6 + 8 + ....100\n",
    "\n",
    "total = 0\n",
    "for i in range(1, 101):\n",
    "    pass\n"
   ]
  },
  {
   "cell_type": "markdown",
   "metadata": {},
   "source": [
    "## # List是什麼"
   ]
  },
  {
   "cell_type": "code",
   "execution_count": 24,
   "metadata": {},
   "outputs": [
    {
     "data": {
      "text/plain": [
       "[0, 1, 2, 4, 5, 5]"
      ]
     },
     "execution_count": 24,
     "metadata": {},
     "output_type": "execute_result"
    }
   ],
   "source": [
    "[0, 1, 2 ,4, 5 , 5]"
   ]
  },
  {
   "cell_type": "code",
   "execution_count": 26,
   "metadata": {},
   "outputs": [
    {
     "name": "stdout",
     "output_type": "stream",
     "text": [
      "0\n",
      "2\n",
      "4\n",
      "5\n"
     ]
    }
   ],
   "source": [
    "mylist = [0, 2, 4, 5]\n",
    "for i in mylist:\n",
    "    print(i)"
   ]
  },
  {
   "cell_type": "code",
   "execution_count": 29,
   "metadata": {},
   "outputs": [
    {
     "data": {
      "text/plain": [
       "[0, 1, 2, 3, 4, 5, 6, 7, 8, 9]"
      ]
     },
     "execution_count": 29,
     "metadata": {},
     "output_type": "execute_result"
    }
   ],
   "source": [
    "list(range(0, 10))"
   ]
  },
  {
   "cell_type": "code",
   "execution_count": 40,
   "metadata": {},
   "outputs": [
    {
     "name": "stdout",
     "output_type": "stream",
     "text": [
      "*****\n",
      "*****\n",
      "*****\n",
      "*****\n",
      "*****\n"
     ]
    },
    {
     "data": {
      "text/plain": [
       "'3 乘 5 = 15'"
      ]
     },
     "execution_count": 40,
     "metadata": {},
     "output_type": "execute_result"
    }
   ],
   "source": [
    "for i in range(0, 5):\n",
    "    line = \"\"\n",
    "    for j in range(0, 5):\n",
    "        line += '*' \n",
    "    print(line)\n",
    "        "
   ]
  }
 ],
 "metadata": {
  "kernelspec": {
   "display_name": "Python 3",
   "language": "python",
   "name": "python3"
  },
  "language_info": {
   "codemirror_mode": {
    "name": "ipython",
    "version": 3
   },
   "file_extension": ".py",
   "mimetype": "text/x-python",
   "name": "python",
   "nbconvert_exporter": "python",
   "pygments_lexer": "ipython3",
   "version": "3.7.6"
  }
 },
 "nbformat": 4,
 "nbformat_minor": 4
}
