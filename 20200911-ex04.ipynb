{
 "cells": [
  {
   "cell_type": "markdown",
   "metadata": {},
   "source": [
    "## 回顧 - 基本運算單元 \n",
    "\n",
    "### 整數(int)\n",
    "```\n",
    "1 \n",
    "2 \n",
    "3\n",
    "4 + 5\n",
    "```\n",
    "\n",
    "### 字串(str)\n",
    "```\n",
    "\"Hello\"\n",
    "\"你好\"\n",
    "\"你好\" + \"Tom\"\n",
    "f\"{3} 乘 {5} = {3 * 5}\"\n",
    "\n",
    "\"你好\" + f\"{3} 乘 {5} = {3 * 5}\"\n",
    "\n",
    "```\n",
    "\n",
    "### 布林(bool)  True and False\n",
    "```\n",
    "True\n",
    "False\n",
    "bool(1)\n",
    "bool(0)\n",
    "bool(\"\")\n",
    "bool(\"somewhat\")\n",
    "True and False\n",
    "\n",
    "```\n",
    "\n",
    "### 變數\n",
    "#### 練習1\n",
    "```\n",
    "x = 3\n",
    "y = 5 \n",
    "x * y\n",
    "\n",
    "# x & y 會是多少?\n",
    "```\n",
    "\n",
    "\n",
    "#### 練習2\n",
    "```\n",
    "x = 0\n",
    "x = x + 1\n",
    "x += 1\n",
    "x += 3\n",
    "\n",
    "# x 是多少?\n",
    "```\n"
   ]
  },
  {
   "cell_type": "code",
   "execution_count": 44,
   "metadata": {},
   "outputs": [
    {
     "name": "stdout",
     "output_type": "stream",
     "text": [
      "你好, Bill\n"
     ]
    }
   ],
   "source": [
    "name = \"Bill\"\n",
    "print(\"你好, \" +  name)"
   ]
  },
  {
   "cell_type": "code",
   "execution_count": 22,
   "metadata": {},
   "outputs": [
    {
     "data": {
      "text/plain": [
       "2"
      ]
     },
     "execution_count": 22,
     "metadata": {},
     "output_type": "execute_result"
    }
   ],
   "source": [
    "x = 0\n",
    "x = x + 1\n",
    "x = x + x \n",
    "x\n"
   ]
  },
  {
   "cell_type": "code",
   "execution_count": 30,
   "metadata": {},
   "outputs": [
    {
     "data": {
      "text/plain": [
       "'greeting, Tom'"
      ]
     },
     "execution_count": 30,
     "metadata": {},
     "output_type": "execute_result"
    }
   ],
   "source": [
    "\"hello world\"\n",
    "'greeting, Tom'"
   ]
  },
  {
   "cell_type": "code",
   "execution_count": 35,
   "metadata": {},
   "outputs": [
    {
     "data": {
      "text/plain": [
       "'i now is 123, total is 456'"
      ]
     },
     "execution_count": 35,
     "metadata": {},
     "output_type": "execute_result"
    }
   ],
   "source": [
    "i = 123\n",
    "total = 456 \n",
    "# printf \n",
    "f\"i now is {i}, total is {total}\""
   ]
  },
  {
   "cell_type": "code",
   "execution_count": 27,
   "metadata": {},
   "outputs": [
    {
     "name": "stdout",
     "output_type": "stream",
     "text": [
      "i now is 1, total is 1\n",
      "continue\n",
      "i now is 2, total is 3\n",
      "continue\n",
      "i now is 3, total is 6\n",
      "continue\n",
      "i now is 4, total is 10\n",
      "continue\n",
      "i now is 5, total is 15\n",
      "continue\n",
      "i now is 6, total is 21\n",
      "continue\n",
      "i now is 7, total is 28\n",
      "continue\n",
      "i now is 8, total is 36\n",
      "continue\n",
      "i now is 9, total is 45\n",
      "continue\n",
      "i now is 10, total is 55\n",
      "continue\n",
      "total: 55\n"
     ]
    }
   ],
   "source": [
    "total = 0\n",
    "for i in range(1, 11):\n",
    "    total = total + i \n",
    "    print(f\"i now is {i}, total is {total}\")\n",
    "    \n",
    "    input(\"continue\") # 中斷程式\n",
    "\n",
    "print(f\"total: {total}\")"
   ]
  },
  {
   "cell_type": "markdown",
   "metadata": {},
   "source": [
    "## 回顧 - 條件判斷 if elase\n",
    "\n",
    "```\n",
    "if True:\n",
    "    print(\"True\")\n",
    "else False\n",
    "    print(\"False\")\n",
    "```"
   ]
  },
  {
   "cell_type": "code",
   "execution_count": 6,
   "metadata": {},
   "outputs": [
    {
     "name": "stdout",
     "output_type": "stream",
     "text": [
      "輸入整數１\n",
      "1 小於 10\n"
     ]
    }
   ],
   "source": [
    "x = int(input(\"輸入整數\"))\n",
    "if x > 10:\n",
    "    print(f\"{x} 大於 10\")\n",
    "elif x < 10:\n",
    "    print(f\"{x} 小於 10\")\n",
    "else:\n",
    "    print(f\"{x} 等於 10\")\n",
    "    "
   ]
  },
  {
   "cell_type": "markdown",
   "metadata": {},
   "source": [
    "## 布林(Bool)\n",
    "```\n",
    "True \n",
    "bool(1)\n",
    "bool(-1)\n",
    "bool(11232313)\n",
    "bool(\"anything\")\n",
    "bool(\"False\")\n",
    "\n",
    "##############################\n",
    "False\n",
    "bool(0)\n",
    "bool(\"\")\n",
    "\n",
    "```\n",
    "\n",
    "## 比較\n",
    "```\n",
    "True\n",
    "10 > 9\n",
    "10 >= 9\n",
    "True and True\n",
    "True or False\n",
    "\n",
    "#######################\n",
    "False \n",
    "10 < 9\n",
    "True and False\n",
    "False and False\n",
    "False and False\n",
    "```\n",
    "\n",
    "## 相反\n",
    "```\n",
    "not True  \n",
    "not False \n",
    "\n",
    "not \"yes\"\n",
    "not \"false\"\n",
    "```\n",
    "\n"
   ]
  },
  {
   "cell_type": "markdown",
   "metadata": {},
   "source": [
    "# 迴圈(loop) 和 迭代(iterator)"
   ]
  },
  {
   "cell_type": "code",
   "execution_count": 12,
   "metadata": {},
   "outputs": [
    {
     "name": "stdout",
     "output_type": "stream",
     "text": [
      "0\n",
      "1\n",
      "2\n",
      "3\n",
      "4\n",
      "5\n",
      "6\n",
      "7\n",
      "8\n",
      "9\n"
     ]
    }
   ],
   "source": [
    "# 從０印到10\n",
    "print(0)\n",
    "print(1)\n",
    "print(2)\n",
    "print(3)\n",
    "print(4)\n",
    "print(5)\n",
    "print(6)\n",
    "print(7)\n",
    "print(8)\n",
    "print(9)\n"
   ]
  },
  {
   "cell_type": "code",
   "execution_count": 18,
   "metadata": {},
   "outputs": [
    {
     "name": "stdout",
     "output_type": "stream",
     "text": [
      "0\n",
      "1\n",
      "2\n",
      "3\n",
      "4\n",
      "5\n",
      "6\n",
      "7\n",
      "8\n",
      "9\n"
     ]
    }
   ],
   "source": [
    "for i in range(0, 10):\n",
    "    print(i)"
   ]
  },
  {
   "cell_type": "markdown",
   "metadata": {},
   "source": [
    "``` # javascript\n",
    "for (var i=0; i< 10; i++){\n",
    "   console.log(i) \n",
    "}\n",
    "```"
   ]
  },
  {
   "cell_type": "code",
   "execution_count": null,
   "metadata": {},
   "outputs": [],
   "source": []
  },
  {
   "cell_type": "code",
   "execution_count": 19,
   "metadata": {},
   "outputs": [
    {
     "name": "stdout",
     "output_type": "stream",
     "text": [
      "total now is 1, total is 0\n",
      "total now is 2, total is 0\n",
      "total now is 3, total is 0\n",
      "total now is 4, total is 0\n",
      "total now is 5, total is 0\n",
      "total now is 6, total is 0\n",
      "total now is 7, total is 0\n",
      "total now is 8, total is 0\n",
      "total now is 9, total is 0\n",
      "total now is 10, total is 0\n",
      "================\n",
      "result: 0\n"
     ]
    }
   ],
   "source": [
    "# total = 1 + 2 + 3 + ...... + 10\n",
    "total = 0\n",
    "for i in range(1, 11):\n",
    "    # __________ # implement here\n",
    "    print(f\"i now is {i}, total is {total}\")\n",
    "\n",
    "print(\"================\")\n",
    "print(f\"result: {total}\")\n",
    "    "
   ]
  },
  {
   "cell_type": "code",
   "execution_count": 36,
   "metadata": {},
   "outputs": [
    {
     "name": "stdout",
     "output_type": "stream",
     "text": [
      "total now is 1, total is 1\n",
      "total now is 2, total is 3\n",
      "total now is 3, total is 6\n",
      "total now is 4, total is 10\n",
      "total now is 5, total is 15\n",
      "total now is 6, total is 21\n",
      "total now is 7, total is 28\n",
      "total now is 8, total is 36\n",
      "total now is 9, total is 45\n",
      "total now is 10, total is 55\n",
      "total now is 11, total is 66\n",
      "total now is 12, total is 78\n",
      "total now is 13, total is 91\n",
      "total now is 14, total is 105\n",
      "total now is 15, total is 120\n",
      "total now is 16, total is 136\n",
      "total now is 17, total is 153\n",
      "total now is 18, total is 171\n",
      "total now is 19, total is 190\n",
      "total now is 20, total is 210\n",
      "total now is 21, total is 231\n",
      "total now is 22, total is 253\n",
      "total now is 23, total is 276\n",
      "total now is 24, total is 300\n",
      "total now is 25, total is 325\n",
      "total now is 26, total is 351\n",
      "total now is 27, total is 378\n",
      "total now is 28, total is 406\n",
      "total now is 29, total is 435\n",
      "total now is 30, total is 465\n",
      "total now is 31, total is 496\n",
      "total now is 32, total is 528\n",
      "total now is 33, total is 561\n",
      "total now is 34, total is 595\n",
      "total now is 35, total is 630\n",
      "total now is 36, total is 666\n",
      "total now is 37, total is 703\n",
      "total now is 38, total is 741\n",
      "total now is 39, total is 780\n",
      "total now is 40, total is 820\n",
      "total now is 41, total is 861\n",
      "total now is 42, total is 903\n",
      "total now is 43, total is 946\n",
      "total now is 44, total is 990\n",
      "total now is 45, total is 1035\n",
      "total now is 46, total is 1081\n",
      "total now is 47, total is 1128\n",
      "total now is 48, total is 1176\n",
      "total now is 49, total is 1225\n",
      "total now is 50, total is 1275\n",
      "total now is 51, total is 1326\n",
      "total now is 52, total is 1378\n",
      "total now is 53, total is 1431\n",
      "total now is 54, total is 1485\n",
      "total now is 55, total is 1540\n",
      "total now is 56, total is 1596\n",
      "total now is 57, total is 1653\n",
      "total now is 58, total is 1711\n",
      "total now is 59, total is 1770\n",
      "total now is 60, total is 1830\n",
      "total now is 61, total is 1891\n",
      "total now is 62, total is 1953\n",
      "total now is 63, total is 2016\n",
      "total now is 64, total is 2080\n",
      "total now is 65, total is 2145\n",
      "total now is 66, total is 2211\n",
      "total now is 67, total is 2278\n",
      "total now is 68, total is 2346\n",
      "total now is 69, total is 2415\n",
      "total now is 70, total is 2485\n",
      "total now is 71, total is 2556\n",
      "total now is 72, total is 2628\n",
      "total now is 73, total is 2701\n",
      "total now is 74, total is 2775\n",
      "total now is 75, total is 2850\n",
      "total now is 76, total is 2926\n",
      "total now is 77, total is 3003\n",
      "total now is 78, total is 3081\n",
      "total now is 79, total is 3160\n",
      "total now is 80, total is 3240\n",
      "total now is 81, total is 3321\n",
      "total now is 82, total is 3403\n",
      "total now is 83, total is 3486\n",
      "total now is 84, total is 3570\n",
      "total now is 85, total is 3655\n",
      "total now is 86, total is 3741\n",
      "total now is 87, total is 3828\n",
      "total now is 88, total is 3916\n",
      "total now is 89, total is 4005\n",
      "total now is 90, total is 4095\n",
      "total now is 91, total is 4186\n",
      "total now is 92, total is 4278\n",
      "total now is 93, total is 4371\n",
      "total now is 94, total is 4465\n",
      "total now is 95, total is 4560\n",
      "total now is 96, total is 4656\n",
      "total now is 97, total is 4753\n",
      "total now is 98, total is 4851\n",
      "total now is 99, total is 4950\n",
      "total now is 100, total is 5050\n",
      "================\n",
      "result: 5050\n"
     ]
    }
   ],
   "source": [
    "# 練習 實作程式求出以下運算試的解\n",
    "# 2 + 4 + 6 + 8 + ....100\n",
    "\n",
    "# Tips:\n",
    "# 如何判斷是不是偶數\n",
    "# if i % 2 == 0: \n",
    "\n",
    "total = 0\n",
    "for i in range(1, 101):\n",
    "    if _______:\n",
    "        total = total + i\n",
    "        print(f\"i now is {i}, total is {total}\")\n",
    "\n",
    "print(\"================\")\n",
    "print(f\"result: {total}\")\n",
    "    "
   ]
  },
  {
   "cell_type": "code",
   "execution_count": 37,
   "metadata": {},
   "outputs": [
    {
     "data": {
      "text/plain": [
       "6"
      ]
     },
     "execution_count": 37,
     "metadata": {},
     "output_type": "execute_result"
    }
   ],
   "source": [
    "def sum(a, b):\n",
    "    return a + b\n",
    "\n",
    "sum(1, 5)"
   ]
  },
  {
   "cell_type": "code",
   "execution_count": 40,
   "metadata": {},
   "outputs": [
    {
     "name": "stdout",
     "output_type": "stream",
     "text": [
      "0 1 2 3 4 5 6 7 8 9\n"
     ]
    }
   ],
   "source": [
    "print(\"0 1 2 3 4 5 6 7 8 9\")\n",
    "# for i in range(0, 10):\n",
    "#     print(i)\n"
   ]
  },
  {
   "cell_type": "code",
   "execution_count": null,
   "metadata": {},
   "outputs": [],
   "source": []
  },
  {
   "cell_type": "markdown",
   "metadata": {},
   "source": [
    "## # List是什麼"
   ]
  },
  {
   "cell_type": "code",
   "execution_count": 24,
   "metadata": {},
   "outputs": [
    {
     "data": {
      "text/plain": [
       "[0, 1, 2, 4, 5, 5]"
      ]
     },
     "execution_count": 24,
     "metadata": {},
     "output_type": "execute_result"
    }
   ],
   "source": [
    "[0, 1, 2 ,4, 5 , 5]"
   ]
  },
  {
   "cell_type": "code",
   "execution_count": 26,
   "metadata": {},
   "outputs": [
    {
     "name": "stdout",
     "output_type": "stream",
     "text": [
      "0\n",
      "2\n",
      "4\n",
      "5\n"
     ]
    }
   ],
   "source": [
    "mylist = [0, 2, 4, 5]\n",
    "for i in mylist:\n",
    "    print(i)"
   ]
  },
  {
   "cell_type": "code",
   "execution_count": 29,
   "metadata": {},
   "outputs": [
    {
     "data": {
      "text/plain": [
       "[0, 1, 2, 3, 4, 5, 6, 7, 8, 9]"
      ]
     },
     "execution_count": 29,
     "metadata": {},
     "output_type": "execute_result"
    }
   ],
   "source": [
    "list(range(0, 10))"
   ]
  },
  {
   "cell_type": "code",
   "execution_count": 46,
   "metadata": {},
   "outputs": [
    {
     "name": "stdout",
     "output_type": "stream",
     "text": [
      " 0 1 2 3 4 5 6 7 8 9\n"
     ]
    }
   ],
   "source": [
    "line = ''\n",
    "for i in range(0, 10):\n",
    "    line = line + f' {i}'\n",
    "print(line)\n",
    "    "
   ]
  },
  {
   "cell_type": "markdown",
   "metadata": {},
   "source": [
    "# 作業"
   ]
  },
  {
   "cell_type": "code",
   "execution_count": 51,
   "metadata": {},
   "outputs": [
    {
     "name": "stdout",
     "output_type": "stream",
     "text": [
      "*****\n"
     ]
    }
   ],
   "source": [
    "# 作業\n",
    "# 兩個for, for裡面也可以放for \n",
    "\n",
    "\n",
    "line = ''\n",
    "for i in range(0, 5):\n",
    "    line = line + '*'\n",
    "print(line)"
   ]
  },
  {
   "cell_type": "code",
   "execution_count": 49,
   "metadata": {},
   "outputs": [
    {
     "name": "stdout",
     "output_type": "stream",
     "text": [
      "*****\n",
      "*****\n",
      "*****\n",
      "*****\n",
      "*****\n"
     ]
    }
   ],
   "source": [
    "print(\"*****\")\n",
    "print(\"*****\")\n",
    "print(\"*****\")\n",
    "print(\"*****\")\n",
    "print(\"*****\")\n"
   ]
  },
  {
   "cell_type": "code",
   "execution_count": 50,
   "metadata": {},
   "outputs": [
    {
     "name": "stdout",
     "output_type": "stream",
     "text": [
      "**\n",
      "**\n"
     ]
    }
   ],
   "source": [
    "print(\"**\")\n",
    "print(\"**\")"
   ]
  }
 ],
 "metadata": {
  "kernelspec": {
   "display_name": "Python 3",
   "language": "python",
   "name": "python3"
  },
  "language_info": {
   "codemirror_mode": {
    "name": "ipython",
    "version": 3
   },
   "file_extension": ".py",
   "mimetype": "text/x-python",
   "name": "python",
   "nbconvert_exporter": "python",
   "pygments_lexer": "ipython3",
   "version": "3.7.6"
  }
 },
 "nbformat": 4,
 "nbformat_minor": 4
}
